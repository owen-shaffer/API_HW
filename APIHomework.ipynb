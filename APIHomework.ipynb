{
  "nbformat": 4,
  "nbformat_minor": 0,
  "metadata": {
    "colab": {
      "provenance": []
    },
    "kernelspec": {
      "name": "python3",
      "display_name": "Python 3"
    },
    "language_info": {
      "name": "python"
    }
  },
  "cells": [
    {
      "cell_type": "code",
      "source": [
        "import json\n",
        "import pandas as pd\n",
        "import json\n",
        "import requests"
      ],
      "metadata": {
        "id": "whe98LBqVmr4"
      },
      "execution_count": 156,
      "outputs": []
    },
    {
      "cell_type": "code",
      "source": [
        "#get stock from the user\n",
        "stock=input()"
      ],
      "metadata": {
        "colab": {
          "base_uri": "https://localhost:8080/"
        },
        "id": "5DK9V5wsVmXc",
        "outputId": "ec54ccdf-2c41-4433-e48f-376a7c0da264"
      },
      "execution_count": 168,
      "outputs": [
        {
          "name": "stdout",
          "output_type": "stream",
          "text": [
            "TSLA,MSFT\n"
          ]
        }
      ]
    },
    {
      "cell_type": "code",
      "source": [
        "print(\"The Stock we will research is:\" + stock)"
      ],
      "metadata": {
        "colab": {
          "base_uri": "https://localhost:8080/"
        },
        "id": "wNpfjndqVh7R",
        "outputId": "e4ec225d-00b4-4e07-e206-9817f1f33e36"
      },
      "execution_count": 169,
      "outputs": [
        {
          "output_type": "stream",
          "name": "stdout",
          "text": [
            "The Stock we will research is:TSLA,MSFT\n"
          ]
        }
      ]
    },
    {
      "cell_type": "code",
      "source": [
        "import requests\n",
        "\n",
        "apikey = \"MY_key\"\n",
        "\n",
        "url1 = \"https://yfapi.net/v6/finance/quote\"\n",
        "querystring1 = {\"symbols\": stock}\n",
        "headers = {'x-api-key': apikey}\n",
        "\n",
        "response1 = requests.get(url1, headers=headers, params=querystring1)\n",
        "\n",
        "print(\"Response from quote API:\", response1.text)\n",
        "\n",
        "\n",
        "url2 = f\"https://yfapi.net/v6/finance/recommendationsbysymbol/{stock}\"\n",
        "\n",
        "response2 = requests.get(url2, headers=headers)\n",
        "\n",
        "print(\"Response from recommendations API:\", response2.text)\n",
        "\n"
      ],
      "metadata": {
        "colab": {
          "base_uri": "https://localhost:8080/"
        },
        "id": "ucyVEyDHcO0D",
        "outputId": "65b18ff0-a2d1-4115-f558-25dbab4e917c"
      },
      "execution_count": 170,
      "outputs": [
        {
          "output_type": "stream",
          "name": "stdout",
          "text": [
            "Response from quote API: {\"quoteResponse\":{\"result\":[{\"language\":\"en-US\",\"region\":\"US\",\"quoteType\":\"EQUITY\",\"typeDisp\":\"Equity\",\"quoteSourceName\":\"Nasdaq Real Time Price\",\"triggerable\":true,\"customPriceAlertConfidence\":\"HIGH\",\"currency\":\"USD\",\"regularMarketChangePercent\":2.4545631,\"regularMarketPrice\":260.46,\"fiftyTwoWeekHighChangePercent\":-0.03889302,\"fiftyTwoWeekLow\":138.8,\"fiftyTwoWeekHigh\":271.0,\"fiftyTwoWeekChangePercent\":3.5214663,\"earningsTimestamp\":1721764800,\"earningsTimestampStart\":1729281600,\"earningsTimestampEnd\":1730145600,\"earningsCallTimestampStart\":1721770200,\"hasPrePostMarketData\":true,\"firstTradeDateMilliseconds\":1277818200000,\"priceHint\":2,\"marketState\":\"CLOSED\",\"trailingAnnualDividendYield\":0.0,\"epsTrailingTwelveMonths\":3.57,\"epsForward\":3.1,\"epsCurrentYear\":2.28,\"priceEpsCurrentYear\":114.23684,\"sharesOutstanding\":3194639872,\"bookValue\":20.81,\"fiftyDayAverage\":222.3946,\"fiftyDayAverageChange\":38.065384,\"fiftyDayAverageChangePercent\":0.17116146,\"twoHundredDayAverage\":202.62926,\"twoHundredDayAverageChange\":57.830734,\"twoHundredDayAverageChangePercent\":0.2854017,\"marketCap\":832075857920,\"forwardPE\":84.019356,\"priceToBook\":12.516098,\"sourceInterval\":15,\"exchangeDataDelayedBy\":0,\"averageAnalystRating\":\"2.7 - Hold\",\"tradeable\":false,\"cryptoTradeable\":false,\"exchange\":\"NMS\",\"shortName\":\"Tesla, Inc.\",\"longName\":\"Tesla, Inc.\",\"messageBoardId\":\"finmb_27444752\",\"exchangeTimezoneName\":\"America/New_York\",\"exchangeTimezoneShortName\":\"EDT\",\"gmtOffSetMilliseconds\":-14400000,\"market\":\"us_market\",\"esgPopulated\":false,\"postMarketChangePercent\":0.261085,\"postMarketTime\":1727481599,\"postMarketPrice\":261.14,\"postMarketChange\":0.680023,\"regularMarketChange\":6.23999,\"regularMarketTime\":1727467200,\"regularMarketDayHigh\":260.6999,\"regularMarketDayRange\":\"254.12 - 260.6999\",\"regularMarketDayLow\":254.12,\"regularMarketVolume\":70988067,\"regularMarketPreviousClose\":254.22,\"bid\":260.19,\"ask\":260.5,\"bidSize\":2,\"askSize\":1,\"fullExchangeName\":\"NasdaqGS\",\"financialCurrency\":\"USD\",\"regularMarketOpen\":257.375,\"averageDailyVolume3Month\":96742792,\"averageDailyVolume10Day\":77999220,\"fiftyTwoWeekLowChange\":121.65999,\"fiftyTwoWeekLowChangePercent\":0.8765129,\"fiftyTwoWeekRange\":\"138.8 - 271.0\",\"fiftyTwoWeekHighChange\":-10.540009,\"earningsCallTimestampEnd\":1721770200,\"isEarningsDateEstimate\":true,\"trailingAnnualDividendRate\":0.0,\"trailingPE\":72.957985,\"displayName\":\"Tesla\",\"symbol\":\"TSLA\"},{\"language\":\"en-US\",\"region\":\"US\",\"quoteType\":\"EQUITY\",\"typeDisp\":\"Equity\",\"quoteSourceName\":\"Nasdaq Real Time Price\",\"triggerable\":true,\"customPriceAlertConfidence\":\"HIGH\",\"currency\":\"USD\",\"regularMarketChangePercent\":-0.7627944,\"regularMarketPrice\":428.02,\"fiftyTwoWeekHighChangePercent\":-0.08611085,\"fiftyTwoWeekLow\":311.21,\"fiftyTwoWeekHigh\":468.35,\"fiftyTwoWeekChangePercent\":33.008076,\"dividendDate\":1733961600,\"earningsTimestamp\":1722369600,\"earningsTimestampStart\":1729594740,\"earningsTimestampEnd\":1730116800,\"earningsCallTimestampStart\":1722375000,\"hasPrePostMarketData\":true,\"firstTradeDateMilliseconds\":511108200000,\"priceHint\":2,\"marketState\":\"CLOSED\",\"dividendRate\":3.32,\"trailingAnnualDividendYield\":0.0069555542,\"dividendYield\":0.78,\"epsTrailingTwelveMonths\":11.81,\"epsForward\":15.21,\"epsCurrentYear\":13.07,\"priceEpsCurrentYear\":32.74828,\"sharesOutstanding\":7433039872,\"bookValue\":36.115,\"fiftyDayAverage\":419.9102,\"fiftyDayAverageChange\":8.109802,\"fiftyDayAverageChangePercent\":0.019313183,\"twoHundredDayAverage\":415.3893,\"twoHundredDayAverageChange\":12.630676,\"twoHundredDayAverageChangePercent\":0.03040684,\"marketCap\":3181489684480,\"forwardPE\":28.140696,\"priceToBook\":11.851584,\"sourceInterval\":15,\"exchangeDataDelayedBy\":0,\"averageAnalystRating\":\"1.7 - Buy\",\"tradeable\":false,\"cryptoTradeable\":false,\"exchange\":\"NMS\",\"shortName\":\"Microsoft Corporation\",\"longName\":\"Microsoft Corporation\",\"messageBoardId\":\"finmb_21835\",\"exchangeTimezoneName\":\"America/New_York\",\"exchangeTimezoneShortName\":\"EDT\",\"gmtOffSetMilliseconds\":-14400000,\"market\":\"us_market\",\"esgPopulated\":false,\"postMarketChangePercent\":-0.163539,\"postMarketTime\":1727481598,\"postMarketPrice\":427.32,\"postMarketChange\":-0.699982,\"regularMarketChange\":-3.2900085,\"regularMarketTime\":1727467201,\"regularMarketDayHigh\":431.83,\"regularMarketDayRange\":\"427.47 - 431.83\",\"regularMarketDayLow\":427.47,\"regularMarketVolume\":14896131,\"regularMarketPreviousClose\":431.31,\"bid\":427.88,\"ask\":428.02,\"bidSize\":1,\"askSize\":1,\"fullExchangeName\":\"NasdaqGS\",\"financialCurrency\":\"USD\",\"regularMarketOpen\":431.52,\"averageDailyVolume3Month\":19880549,\"averageDailyVolume10Day\":20340230,\"fiftyTwoWeekLowChange\":116.81,\"fiftyTwoWeekLowChangePercent\":0.37534142,\"fiftyTwoWeekRange\":\"311.21 - 468.35\",\"fiftyTwoWeekHighChange\":-40.330017,\"earningsCallTimestampEnd\":1722375000,\"isEarningsDateEstimate\":true,\"trailingAnnualDividendRate\":3.0,\"trailingPE\":36.242165,\"displayName\":\"Microsoft\",\"symbol\":\"MSFT\"}],\"error\":null}}\n",
            "Response from recommendations API: {\"finance\":{\"result\":[{\"symbol\":\"TSLA\",\"recommendedSymbols\":[{\"symbol\":\"AAPL\",\"score\":0.293844},{\"symbol\":\"AMZN\",\"score\":0.291971},{\"symbol\":\"META\",\"score\":0.257461},{\"symbol\":\"GOOG\",\"score\":0.240832},{\"symbol\":\"NFLX\",\"score\":0.226017}]},{\"symbol\":\"MSFT\",\"recommendedSymbols\":[{\"symbol\":\"AAPL\",\"score\":0.216847},{\"symbol\":\"AMZN\",\"score\":0.210832},{\"symbol\":\"GOOG\",\"score\":0.182},{\"symbol\":\"META\",\"score\":0.181104},{\"symbol\":\"NVDA\",\"score\":0.178456}]}],\"error\":null}}\n"
          ]
        }
      ]
    },
    {
      "cell_type": "code",
      "source": [
        "stock_json1 = response1.json()\n",
        "stock_json2 = response2.json()\n",
        "print(stock_json1['quoteResponse']['result'][0][\"symbol\"], stock_json1['quoteResponse']['result'][0][\"fiftyTwoWeekHigh\"], stock_json1['quoteResponse']['result'][0][\"fiftyTwoWeekLow\"],\n",
        "      stock_json1['quoteResponse']['result'][0][\"longName\"] + \" Price:$\" + str(stock_json1['quoteResponse']['result'][0][\"regularMarketPrice\"]),\n",
        "      stock_json1['quoteResponse']['result'][1][\"symbol\"], stock_json1['quoteResponse']['result'][1][\"fiftyTwoWeekHigh\"], stock_json1['quoteResponse']['result'][1][\"fiftyTwoWeekLow\"],\n",
        "      stock_json1['quoteResponse']['result'][1][\"longName\"] + \" Price:$\" + str(stock_json1['quoteResponse']['result'][1][\"regularMarketPrice\"]),\n",
        "      )\n",
        ""
      ],
      "metadata": {
        "colab": {
          "base_uri": "https://localhost:8080/"
        },
        "id": "neRkQ3p4Vy3g",
        "outputId": "5cdd1591-305c-418f-a8c8-903a2430d474"
      },
      "execution_count": 171,
      "outputs": [
        {
          "output_type": "stream",
          "name": "stdout",
          "text": [
            "TSLA 271.0 138.8 Tesla, Inc. Price:$260.46 MSFT 468.35 311.21 Microsoft Corporation Price:$428.02\n"
          ]
        }
      ]
    },
    {
      "cell_type": "code",
      "source": [
        "for symbol in stock_json2['finance']['result'][0]['recommendedSymbols']:\n",
        "    print(\"Trending Stocks:\", symbol['symbol'])"
      ],
      "metadata": {
        "colab": {
          "base_uri": "https://localhost:8080/"
        },
        "id": "Ja7QHmsFYzt9",
        "outputId": "e4121ed6-d07a-4a01-82b6-86e61804b0bd"
      },
      "execution_count": 172,
      "outputs": [
        {
          "output_type": "stream",
          "name": "stdout",
          "text": [
            "Trending Stocks: AAPL\n",
            "Trending Stocks: AMZN\n",
            "Trending Stocks: META\n",
            "Trending Stocks: GOOG\n",
            "Trending Stocks: NFLX\n"
          ]
        }
      ]
    },
    {
      "cell_type": "code",
      "source": [
        "stock_data = []\n",
        "for stock in stock_json1['quoteResponse']['result']:\n",
        "    info = {\n",
        "        \"Symbol\": stock[\"symbol\"],\n",
        "        \"52 Week High\": stock[\"fiftyTwoWeekHigh\"],\n",
        "        \"52 Week Low\": stock[\"fiftyTwoWeekLow\"],\n",
        "        \"Long Name\": stock[\"longName\"],\n",
        "        \"Price\": f\"${stock['regularMarketPrice']}\"\n",
        "    }\n",
        "    stock_data.append(info)\n",
        "\n",
        "Stock_Info_df = pd.DataFrame(stock_data)\n",
        "\n",
        "print(Stock_Info_df)"
      ],
      "metadata": {
        "colab": {
          "base_uri": "https://localhost:8080/"
        },
        "id": "PhH0SlDfnwSx",
        "outputId": "3fb8b261-7115-4560-f030-6a6f670db40a"
      },
      "execution_count": 173,
      "outputs": [
        {
          "output_type": "stream",
          "name": "stdout",
          "text": [
            "  Symbol  52 Week High  52 Week Low              Long Name    Price\n",
            "0   TSLA        271.00       138.80            Tesla, Inc.  $260.46\n",
            "1   MSFT        468.35       311.21  Microsoft Corporation  $428.02\n"
          ]
        }
      ]
    },
    {
      "cell_type": "code",
      "source": [
        "recommended_symbols = stock_json2['finance']['result'][0]['recommendedSymbols']\n",
        "\n",
        "reccomendations_df = pd.DataFrame(recommended_symbols)\n",
        "\n",
        "print(reccomendations_df)"
      ],
      "metadata": {
        "colab": {
          "base_uri": "https://localhost:8080/"
        },
        "id": "drccSMwnlikP",
        "outputId": "871e121a-e053-4781-fb67-72e7c825e14e"
      },
      "execution_count": 174,
      "outputs": [
        {
          "output_type": "stream",
          "name": "stdout",
          "text": [
            "  symbol     score\n",
            "0   AAPL  0.293844\n",
            "1   AMZN  0.291971\n",
            "2   META  0.257461\n",
            "3   GOOG  0.240832\n",
            "4   NFLX  0.226017\n"
          ]
        }
      ]
    },
    {
      "cell_type": "code",
      "source": [
        "Stock_Info_df.to_csv('stock_info.csv', index=False)\n",
        "reccomendations_df.to_csv('recommended_stocks.csv', index=False)\n"
      ],
      "metadata": {
        "id": "9sqii7M2ojMp"
      },
      "execution_count": 175,
      "outputs": []
    }
  ]
}